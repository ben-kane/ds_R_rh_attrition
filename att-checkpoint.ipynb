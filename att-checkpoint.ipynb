{
 "cells": [
  {
   "cell_type": "markdown",
   "id": "85c1b6e8",
   "metadata": {},
   "source": [
    "##### Analyse de données sur l'attrition des employés (RH)"
   ]
  },
  {
   "cell_type": "markdown",
   "id": "3ddf6143",
   "metadata": {},
   "source": [
    "Plan: \n",
    "- Présenter les données et exposer la problématique;\n",
    "- Résolution de la problématique ;\n",
    "- Conclusion. "
   ]
  },
  {
   "cell_type": "markdown",
   "id": "b4334f98",
   "metadata": {},
   "source": [
    "Les données sont acquises directement sur le site de Kaggle où IBM a disposé des données sur l'étude de l'attrition\n",
    "des ressources humaines. Les données sont composés de 16 variables et 1470 observations. \n",
    "\n",
    "L'attrition fait référence au depart des ressources humaines d'une organisation. Il peut avoir des causes naturelles comme le depart à la retraite ou la fin d'un contrat, et des causes plus inattendus comme les demissions. La problématique qui se pose alors est de savoir les causes qui peuvent être à l'origine des departs et d'en mitiguer. Car cela a un impact important sur la maturité, la tenue des activité, le transfert d'expérience et la finance des entreprises.\n",
    "\n",
    "À la lumière donc de cette étude, nous determinerons quelles sont les differentes variables qui ont une influence sur l'attrition."
   ]
  },
  {
   "cell_type": "code",
   "execution_count": 1,
   "id": "04db0ae9",
   "metadata": {},
   "outputs": [],
   "source": [
    "hrdata = read.csv(\"WA_Fn-UseC_-HR-Employee-Attrition.csv\")"
   ]
  },
  {
   "cell_type": "code",
   "execution_count": 172,
   "id": "0ad0198a",
   "metadata": {},
   "outputs": [
    {
     "name": "stdout",
     "output_type": "stream",
     "text": [
      "'data.frame':\t1470 obs. of  16 variables:\n",
      " $ Age                    : int  41 49 37 33 27 32 59 30 38 36 ...\n",
      " $ Attrition              : Factor w/ 2 levels \"No\",\"Yes\": 2 1 2 1 1 1 1 1 1 1 ...\n",
      " $ DistanceFromHome       : int  1 8 2 3 2 2 3 24 23 27 ...\n",
      " $ Education              : int  2 1 2 4 1 2 3 1 3 3 ...\n",
      " $ EmployeeNumber         : int  1 2 4 5 7 8 10 11 12 13 ...\n",
      " $ EnvironmentSatisfaction: int  2 3 4 4 1 4 3 4 4 3 ...\n",
      " $ Gender                 : Factor w/ 2 levels \"Female\",\"Male\": 1 2 2 1 2 2 1 2 2 2 ...\n",
      " $ HourlyRate             : int  94 61 92 56 40 79 81 67 44 94 ...\n",
      " $ JobLevel               : int  2 2 1 1 1 1 1 1 3 2 ...\n",
      " $ JobSatisfaction        : int  4 2 3 3 2 4 1 3 3 3 ...\n",
      " $ MaritalStatus          : Factor w/ 3 levels \"Divorced\",\"Married\",..: 3 2 3 2 2 3 2 1 3 2 ...\n",
      " $ NumCompaniesWorked     : int  8 1 6 1 9 0 4 1 0 6 ...\n",
      " $ StockOptionLevel       : int  0 1 0 0 1 0 3 1 0 2 ...\n",
      " $ TotalWorkingYears      : int  8 10 7 8 6 8 12 1 10 17 ...\n",
      " $ TrainingTimesLastYear  : int  0 3 3 3 3 2 3 2 2 3 ...\n",
      " $ WorkLifeBalance        : int  1 3 3 3 3 2 2 3 3 2 ...\n"
     ]
    },
    {
     "name": "stderr",
     "output_type": "stream",
     "text": [
      "The following objects are masked from hrdata (pos = 9):\n",
      "\n",
      "    Age, Attrition, DistanceFromHome, Education, EmployeeNumber,\n",
      "    EnvironmentSatisfaction, Gender, HourlyRate, JobLevel,\n",
      "    JobSatisfaction, MaritalStatus, NumCompaniesWorked,\n",
      "    StockOptionLevel, TotalWorkingYears, TrainingTimesLastYear,\n",
      "    WorkLifeBalance\n",
      "\n",
      "\n",
      "The following objects are masked from hrdata (pos = 10):\n",
      "\n",
      "    Attrition, DistanceFromHome, Education, EmployeeNumber,\n",
      "    EnvironmentSatisfaction, Gender, HourlyRate, JobLevel,\n",
      "    JobSatisfaction, MaritalStatus, NumCompaniesWorked,\n",
      "    StockOptionLevel, TotalWorkingYears, TrainingTimesLastYear,\n",
      "    WorkLifeBalance\n",
      "\n",
      "\n"
     ]
    },
    {
     "data": {
      "text/html": [
       "<table class=\"dataframe\">\n",
       "<caption>A data.frame: 6 × 16</caption>\n",
       "<thead>\n",
       "\t<tr><th></th><th scope=col>Age</th><th scope=col>Attrition</th><th scope=col>DistanceFromHome</th><th scope=col>Education</th><th scope=col>EmployeeNumber</th><th scope=col>EnvironmentSatisfaction</th><th scope=col>Gender</th><th scope=col>HourlyRate</th><th scope=col>JobLevel</th><th scope=col>JobSatisfaction</th><th scope=col>MaritalStatus</th><th scope=col>NumCompaniesWorked</th><th scope=col>StockOptionLevel</th><th scope=col>TotalWorkingYears</th><th scope=col>TrainingTimesLastYear</th><th scope=col>WorkLifeBalance</th></tr>\n",
       "\t<tr><th></th><th scope=col>&lt;int&gt;</th><th scope=col>&lt;fct&gt;</th><th scope=col>&lt;int&gt;</th><th scope=col>&lt;int&gt;</th><th scope=col>&lt;int&gt;</th><th scope=col>&lt;int&gt;</th><th scope=col>&lt;fct&gt;</th><th scope=col>&lt;int&gt;</th><th scope=col>&lt;int&gt;</th><th scope=col>&lt;int&gt;</th><th scope=col>&lt;fct&gt;</th><th scope=col>&lt;int&gt;</th><th scope=col>&lt;int&gt;</th><th scope=col>&lt;int&gt;</th><th scope=col>&lt;int&gt;</th><th scope=col>&lt;int&gt;</th></tr>\n",
       "</thead>\n",
       "<tbody>\n",
       "\t<tr><th scope=row>1</th><td>41</td><td>Yes</td><td>1</td><td>2</td><td>1</td><td>2</td><td>Female</td><td>94</td><td>2</td><td>4</td><td>Single </td><td>8</td><td>0</td><td> 8</td><td>0</td><td>1</td></tr>\n",
       "\t<tr><th scope=row>2</th><td>49</td><td>No </td><td>8</td><td>1</td><td>2</td><td>3</td><td>Male  </td><td>61</td><td>2</td><td>2</td><td>Married</td><td>1</td><td>1</td><td>10</td><td>3</td><td>3</td></tr>\n",
       "\t<tr><th scope=row>3</th><td>37</td><td>Yes</td><td>2</td><td>2</td><td>4</td><td>4</td><td>Male  </td><td>92</td><td>1</td><td>3</td><td>Single </td><td>6</td><td>0</td><td> 7</td><td>3</td><td>3</td></tr>\n",
       "\t<tr><th scope=row>4</th><td>33</td><td>No </td><td>3</td><td>4</td><td>5</td><td>4</td><td>Female</td><td>56</td><td>1</td><td>3</td><td>Married</td><td>1</td><td>0</td><td> 8</td><td>3</td><td>3</td></tr>\n",
       "\t<tr><th scope=row>5</th><td>27</td><td>No </td><td>2</td><td>1</td><td>7</td><td>1</td><td>Male  </td><td>40</td><td>1</td><td>2</td><td>Married</td><td>9</td><td>1</td><td> 6</td><td>3</td><td>3</td></tr>\n",
       "\t<tr><th scope=row>6</th><td>32</td><td>No </td><td>2</td><td>2</td><td>8</td><td>4</td><td>Male  </td><td>79</td><td>1</td><td>4</td><td>Single </td><td>0</td><td>0</td><td> 8</td><td>2</td><td>2</td></tr>\n",
       "</tbody>\n",
       "</table>\n"
      ],
      "text/latex": [
       "A data.frame: 6 × 16\n",
       "\\begin{tabular}{r|llllllllllllllll}\n",
       "  & Age & Attrition & DistanceFromHome & Education & EmployeeNumber & EnvironmentSatisfaction & Gender & HourlyRate & JobLevel & JobSatisfaction & MaritalStatus & NumCompaniesWorked & StockOptionLevel & TotalWorkingYears & TrainingTimesLastYear & WorkLifeBalance\\\\\n",
       "  & <int> & <fct> & <int> & <int> & <int> & <int> & <fct> & <int> & <int> & <int> & <fct> & <int> & <int> & <int> & <int> & <int>\\\\\n",
       "\\hline\n",
       "\t1 & 41 & Yes & 1 & 2 & 1 & 2 & Female & 94 & 2 & 4 & Single  & 8 & 0 &  8 & 0 & 1\\\\\n",
       "\t2 & 49 & No  & 8 & 1 & 2 & 3 & Male   & 61 & 2 & 2 & Married & 1 & 1 & 10 & 3 & 3\\\\\n",
       "\t3 & 37 & Yes & 2 & 2 & 4 & 4 & Male   & 92 & 1 & 3 & Single  & 6 & 0 &  7 & 3 & 3\\\\\n",
       "\t4 & 33 & No  & 3 & 4 & 5 & 4 & Female & 56 & 1 & 3 & Married & 1 & 0 &  8 & 3 & 3\\\\\n",
       "\t5 & 27 & No  & 2 & 1 & 7 & 1 & Male   & 40 & 1 & 2 & Married & 9 & 1 &  6 & 3 & 3\\\\\n",
       "\t6 & 32 & No  & 2 & 2 & 8 & 4 & Male   & 79 & 1 & 4 & Single  & 0 & 0 &  8 & 2 & 2\\\\\n",
       "\\end{tabular}\n"
      ],
      "text/markdown": [
       "\n",
       "A data.frame: 6 × 16\n",
       "\n",
       "| <!--/--> | Age &lt;int&gt; | Attrition &lt;fct&gt; | DistanceFromHome &lt;int&gt; | Education &lt;int&gt; | EmployeeNumber &lt;int&gt; | EnvironmentSatisfaction &lt;int&gt; | Gender &lt;fct&gt; | HourlyRate &lt;int&gt; | JobLevel &lt;int&gt; | JobSatisfaction &lt;int&gt; | MaritalStatus &lt;fct&gt; | NumCompaniesWorked &lt;int&gt; | StockOptionLevel &lt;int&gt; | TotalWorkingYears &lt;int&gt; | TrainingTimesLastYear &lt;int&gt; | WorkLifeBalance &lt;int&gt; |\n",
       "|---|---|---|---|---|---|---|---|---|---|---|---|---|---|---|---|---|\n",
       "| 1 | 41 | Yes | 1 | 2 | 1 | 2 | Female | 94 | 2 | 4 | Single  | 8 | 0 |  8 | 0 | 1 |\n",
       "| 2 | 49 | No  | 8 | 1 | 2 | 3 | Male   | 61 | 2 | 2 | Married | 1 | 1 | 10 | 3 | 3 |\n",
       "| 3 | 37 | Yes | 2 | 2 | 4 | 4 | Male   | 92 | 1 | 3 | Single  | 6 | 0 |  7 | 3 | 3 |\n",
       "| 4 | 33 | No  | 3 | 4 | 5 | 4 | Female | 56 | 1 | 3 | Married | 1 | 0 |  8 | 3 | 3 |\n",
       "| 5 | 27 | No  | 2 | 1 | 7 | 1 | Male   | 40 | 1 | 2 | Married | 9 | 1 |  6 | 3 | 3 |\n",
       "| 6 | 32 | No  | 2 | 2 | 8 | 4 | Male   | 79 | 1 | 4 | Single  | 0 | 0 |  8 | 2 | 2 |\n",
       "\n"
      ],
      "text/plain": [
       "  Age Attrition DistanceFromHome Education EmployeeNumber\n",
       "1 41  Yes       1                2         1             \n",
       "2 49  No        8                1         2             \n",
       "3 37  Yes       2                2         4             \n",
       "4 33  No        3                4         5             \n",
       "5 27  No        2                1         7             \n",
       "6 32  No        2                2         8             \n",
       "  EnvironmentSatisfaction Gender HourlyRate JobLevel JobSatisfaction\n",
       "1 2                       Female 94         2        4              \n",
       "2 3                       Male   61         2        2              \n",
       "3 4                       Male   92         1        3              \n",
       "4 4                       Female 56         1        3              \n",
       "5 1                       Male   40         1        2              \n",
       "6 4                       Male   79         1        4              \n",
       "  MaritalStatus NumCompaniesWorked StockOptionLevel TotalWorkingYears\n",
       "1 Single        8                  0                 8               \n",
       "2 Married       1                  1                10               \n",
       "3 Single        6                  0                 7               \n",
       "4 Married       1                  0                 8               \n",
       "5 Married       9                  1                 6               \n",
       "6 Single        0                  0                 8               \n",
       "  TrainingTimesLastYear WorkLifeBalance\n",
       "1 0                     1              \n",
       "2 3                     3              \n",
       "3 3                     3              \n",
       "4 3                     3              \n",
       "5 3                     3              \n",
       "6 2                     2              "
      ]
     },
     "metadata": {},
     "output_type": "display_data"
    }
   ],
   "source": [
    "str(hrdata)\n",
    "names(hrdata)[1] = \"Age\" # contenait des caractères inapropriés à l'import.\n",
    "attach(hrdata)\n",
    "\n",
    "#Mettre en facteur les variables categorielles pour permettre aux modèles de les reconnaitre.\n",
    "hrdata$Attrition        = as.factor(hrdata$Attrition)\n",
    "hrdata$Gender           = as.factor(hrdata$Gender)\n",
    "hrdata$MaritalStatus    = as.factor(hrdata$MaritalStatus)\n",
    "head(hrdata)\n",
    "\n",
    "#Verification des données vides \n",
    "sapply(data, function(x) sum(is.na(x)))"
   ]
  },
  {
   "cell_type": "code",
   "execution_count": 9,
   "id": "39fd0f6c",
   "metadata": {},
   "outputs": [],
   "source": [
    "#Création d'un sous-ensemble de données pour une analyse de corrélation.\n",
    "num_data = data.frame(c(Age),c(DistanceFromHome),c(Education),\n",
    "           c(EmployeeNumber),c(EnvironmentSatisfaction),\n",
    "           c(HourlyRate),c(JobLevel),c(JobSatisfaction),\n",
    "           c(NumCompaniesWorked),c(StockOptionLevel),\n",
    "           c(TotalWorkingYears),c(TrainingTimesLastYear),c(WorkLifeBalance)\n",
    ")"
   ]
  },
  {
   "cell_type": "code",
   "execution_count": 171,
   "id": "0893de28",
   "metadata": {},
   "outputs": [
    {
     "data": {
      "image/png": "[encoded data removed]",
      "text/plain": [
       "plot without title"
      ]
     },
     "metadata": {
      "image/png": {
       "height": 420,
       "width": 420
      }
     },
     "output_type": "display_data"
    }
   ],
   "source": [
    "#cor = cor(num_data, y = NULL, use = \"everything\", method = c(\"pearson\"))\n",
    "library(ggstatsplot)\n",
    "knitr::opts_chunk$set(fig.width=20, fig.height=20) \n",
    "ggcorrmat(\n",
    "  data = num_data,\n",
    "  type = \"parametric\", \n",
    " width = 20, height = 20\n",
    ")"
   ]
  },
  {
   "cell_type": "markdown",
   "id": "bcba3357",
   "metadata": {},
   "source": [
    "Le but de cette analyse de corrélation est de voir les variables qui sont les plus corrélés et les enlevé de l'analyse. car cela ne contribue pas effectivement au modèle. Dans cette optique, la variable \"TotalWorkingYears\" montre sa dépendance de manière plus prononcée vis à vis des variables \"Age\" et \"JobLevel\". Par conséquent, elle sera exclue de nos modèles subsequents."
   ]
  },
  {
   "cell_type": "code",
   "execution_count": 51,
   "id": "7a3f08e1",
   "metadata": {},
   "outputs": [],
   "source": [
    "# Nous allons séparer nos données pour 60 % en données d'apprentissage et le reste pour effectuer des tests.\n",
    "set.seed(1)\n",
    "trainsampling = sample(seq_len(nrow(hrdata)), size = floor(0.60 * nrow(hrdata)))\n",
    "train <- hrdata[trainsampling, ]\n",
    "test <- hrdata[-trainsampling, ]"
   ]
  },
  {
   "cell_type": "code",
   "execution_count": 54,
   "id": "475c6ecd",
   "metadata": {},
   "outputs": [
    {
     "data": {
      "text/plain": [
       "\n",
       "Call:\n",
       "glm(formula = Attrition ~ . - TotalWorkingYears, family = binomial, \n",
       "    data = train)\n",
       "\n",
       "Deviance Residuals: \n",
       "    Min       1Q   Median       3Q      Max  \n",
       "-1.7699  -0.5942  -0.3796  -0.2032   3.2765  \n",
       "\n",
       "Coefficients:\n",
       "                          Estimate Std. Error z value Pr(>|z|)    \n",
       "(Intercept)              2.005e+00  9.175e-01   2.186 0.028845 *  \n",
       "Age                     -3.970e-02  1.413e-02  -2.809 0.004966 ** \n",
       "DistanceFromHome         4.866e-02  1.220e-02   3.987 6.68e-05 ***\n",
       "Education               -3.542e-02  1.015e-01  -0.349 0.727063    \n",
       "EmployeeNumber          -9.999e-05  1.698e-04  -0.589 0.555921    \n",
       "EnvironmentSatisfaction -2.762e-01  9.055e-02  -3.051 0.002283 ** \n",
       "GenderMale               4.365e-01  2.148e-01   2.032 0.042156 *  \n",
       "HourlyRate              -6.910e-03  5.072e-03  -1.362 0.173114    \n",
       "JobLevel                -5.160e-01  1.384e-01  -3.728 0.000193 ***\n",
       "JobSatisfaction         -3.477e-01  9.089e-02  -3.826 0.000130 ***\n",
       "MaritalStatusMarried     5.258e-01  3.310e-01   1.589 0.112114    \n",
       "MaritalStatusSingle      1.445e+00  4.150e-01   3.482 0.000498 ***\n",
       "NumCompaniesWorked       1.298e-01  4.082e-02   3.180 0.001472 ** \n",
       "StockOptionLevel        -3.135e-02  1.757e-01  -0.178 0.858369    \n",
       "TrainingTimesLastYear   -1.446e-01  7.819e-02  -1.850 0.064331 .  \n",
       "WorkLifeBalance         -2.121e-01  1.426e-01  -1.487 0.136988    \n",
       "---\n",
       "Signif. codes:  0 '***' 0.001 '**' 0.01 '*' 0.05 '.' 0.1 ' ' 1\n",
       "\n",
       "(Dispersion parameter for binomial family taken to be 1)\n",
       "\n",
       "    Null deviance: 771.85  on 881  degrees of freedom\n",
       "Residual deviance: 636.56  on 866  degrees of freedom\n",
       "AIC: 668.56\n",
       "\n",
       "Number of Fisher Scoring iterations: 5\n"
      ]
     },
     "metadata": {},
     "output_type": "display_data"
    }
   ],
   "source": [
    "#Étant données que notre variable indépendante est une classe, les differents modèles que nous utiliserons \n",
    "# seront capable de predire correctement une classe données. de ces predictions avec nos données de test, nous \n",
    "# évaluerons si le modèle est precis ou non.\n",
    "\n",
    "#Nous allons explorer quatre modèle à savoir la regression logistique (modèle 1), le modèle linéaire discriminant (2),\n",
    "#le modèle discriminant quadratique (3) et pour finir, le k plus proche voisin (4). \n",
    "\n",
    "# Methode 1 : Régression logistique : \n",
    "\n",
    "reg_log1 <- glm( Attrition ~ . -TotalWorkingYears, data = train, family = binomial\n",
    "  )\n",
    "summary(reg_log1)"
   ]
  },
  {
   "cell_type": "code",
   "execution_count": 55,
   "id": "00f73f70",
   "metadata": {},
   "outputs": [
    {
     "data": {
      "text/plain": [
       "\n",
       "Call:\n",
       "glm(formula = Attrition ~ scale(Age) + scale(DistanceFromHome) + \n",
       "    scale(Education) + scale(EmployeeNumber) + scale(EnvironmentSatisfaction) + \n",
       "    Gender + scale(HourlyRate) + scale(JobLevel) + scale(JobSatisfaction) + \n",
       "    +MaritalStatus + scale(NumCompaniesWorked) + scale(StockOptionLevel) + \n",
       "    scale(TrainingTimesLastYear) + scale(WorkLifeBalance), family = binomial, \n",
       "    data = train)\n",
       "\n",
       "Deviance Residuals: \n",
       "    Min       1Q   Median       3Q      Max  \n",
       "-1.7699  -0.5942  -0.3796  -0.2032   3.2765  \n",
       "\n",
       "Coefficients:\n",
       "                               Estimate Std. Error z value Pr(>|z|)    \n",
       "(Intercept)                    -3.10307    0.35117  -8.836  < 2e-16 ***\n",
       "scale(Age)                     -0.37059    0.13192  -2.809 0.004966 ** \n",
       "scale(DistanceFromHome)         0.38484    0.09652   3.987 6.68e-05 ***\n",
       "scale(Education)               -0.03708    0.10622  -0.349 0.727063    \n",
       "scale(EmployeeNumber)          -0.05997    0.10184  -0.589 0.555921    \n",
       "scale(EnvironmentSatisfaction) -0.30460    0.09984  -3.051 0.002283 ** \n",
       "GenderMale                      0.43646    0.21480   2.032 0.042156 *  \n",
       "scale(HourlyRate)              -0.14023    0.10294  -1.362 0.173114    \n",
       "scale(JobLevel)                -0.57417    0.15403  -3.728 0.000193 ***\n",
       "scale(JobSatisfaction)         -0.38356    0.10025  -3.826 0.000130 ***\n",
       "MaritalStatusMarried            0.52584    0.33098   1.589 0.112114    \n",
       "MaritalStatusSingle             1.44509    0.41502   3.482 0.000498 ***\n",
       "scale(NumCompaniesWorked)       0.32303    0.10158   3.180 0.001472 ** \n",
       "scale(StockOptionLevel)        -0.02716    0.15222  -0.178 0.858369    \n",
       "scale(TrainingTimesLastYear)   -0.19182    0.10369  -1.850 0.064331 .  \n",
       "scale(WorkLifeBalance)         -0.14924    0.10036  -1.487 0.136988    \n",
       "---\n",
       "Signif. codes:  0 '***' 0.001 '**' 0.01 '*' 0.05 '.' 0.1 ' ' 1\n",
       "\n",
       "(Dispersion parameter for binomial family taken to be 1)\n",
       "\n",
       "    Null deviance: 771.85  on 881  degrees of freedom\n",
       "Residual deviance: 636.56  on 866  degrees of freedom\n",
       "AIC: 668.56\n",
       "\n",
       "Number of Fisher Scoring iterations: 5\n"
      ]
     },
     "metadata": {},
     "output_type": "display_data"
    }
   ],
   "source": [
    "#Regression logistique avec les variables standardisées. \n",
    "reg_log_scaled = glm( Attrition ~ scale(Age)+scale(DistanceFromHome)+\n",
    "    scale(Education)+scale(EmployeeNumber)+\n",
    "    scale(EnvironmentSatisfaction)+Gender+\n",
    "    scale(HourlyRate)+scale(JobLevel)+scale(JobSatisfaction)\n",
    "    +MaritalStatus+scale(NumCompaniesWorked)+scale(StockOptionLevel)+\n",
    "    scale(TrainingTimesLastYear)+scale(WorkLifeBalance),   \n",
    "    data = train, family = binomial\n",
    "  )\n",
    "summary(reg_log_scaled)"
   ]
  },
  {
   "cell_type": "code",
   "execution_count": 56,
   "id": "204df2e6",
   "metadata": {},
   "outputs": [
    {
     "data": {
      "image/png": "[encoded data removed]",
      "text/plain": [
       "Plot with title \"\""
      ]
     },
     "metadata": {
      "image/png": {
       "height": 420,
       "width": 420
      }
     },
     "output_type": "display_data"
    }
   ],
   "source": [
    "par(mfrow = c(2, 2))\n",
    "plot(reg_log_scaled)"
   ]
  },
  {
   "cell_type": "code",
   "execution_count": 57,
   "id": "b7c2ba78",
   "metadata": {},
   "outputs": [],
   "source": [
    "reg.probs <- predict(reg_log_scaled, test, type = \"response\")"
   ]
  },
  {
   "cell_type": "code",
   "execution_count": 62,
   "id": "65ccd7cf",
   "metadata": {},
   "outputs": [
    {
     "data": {
      "text/html": [
       "<style>\n",
       ".list-inline {list-style: none; margin:0; padding: 0}\n",
       ".list-inline>li {display: inline-block}\n",
       ".list-inline>li:not(:last-child)::after {content: \"\\00b7\"; padding: 0 .5ex}\n",
       "</style>\n",
       "<ol class=list-inline><li>588</li><li>16</li></ol>\n"
      ],
      "text/latex": [
       "\\begin{enumerate*}\n",
       "\\item 588\n",
       "\\item 16\n",
       "\\end{enumerate*}\n"
      ],
      "text/markdown": [
       "1. 588\n",
       "2. 16\n",
       "\n",
       "\n"
      ],
      "text/plain": [
       "[1] 588  16"
      ]
     },
     "metadata": {},
     "output_type": "display_data"
    }
   ],
   "source": [
    "dim(test)"
   ]
  },
  {
   "cell_type": "code",
   "execution_count": 70,
   "id": "e529b02f",
   "metadata": {},
   "outputs": [
    {
     "data": {
      "text/html": [
       "<table class=\"dataframe\">\n",
       "<caption>A matrix: 2 × 1 of type dbl</caption>\n",
       "<thead>\n",
       "\t<tr><th></th><th scope=col>Yes</th></tr>\n",
       "</thead>\n",
       "<tbody>\n",
       "\t<tr><th scope=row>No</th><td>0</td></tr>\n",
       "\t<tr><th scope=row>Yes</th><td>1</td></tr>\n",
       "</tbody>\n",
       "</table>\n"
      ],
      "text/latex": [
       "A matrix: 2 × 1 of type dbl\n",
       "\\begin{tabular}{r|l}\n",
       "  & Yes\\\\\n",
       "\\hline\n",
       "\tNo & 0\\\\\n",
       "\tYes & 1\\\\\n",
       "\\end{tabular}\n"
      ],
      "text/markdown": [
       "\n",
       "A matrix: 2 × 1 of type dbl\n",
       "\n",
       "| <!--/--> | Yes |\n",
       "|---|---|\n",
       "| No | 0 |\n",
       "| Yes | 1 |\n",
       "\n"
      ],
      "text/plain": [
       "    Yes\n",
       "No  0  \n",
       "Yes 1  "
      ]
     },
     "metadata": {},
     "output_type": "display_data"
    }
   ],
   "source": [
    "contrasts(Attrition)"
   ]
  },
  {
   "cell_type": "code",
   "execution_count": 86,
   "id": "5fde8fe6",
   "metadata": {},
   "outputs": [
    {
     "name": "stdout",
     "output_type": "stream",
     "text": [
      "[1] \"Matrice de confusion\"\n"
     ]
    },
    {
     "data": {
      "text/plain": [
       "        \n",
       "predict1  No Yes\n",
       "     No  479  90\n",
       "     Yes  12   7"
      ]
     },
     "metadata": {},
     "output_type": "display_data"
    },
    {
     "name": "stdout",
     "output_type": "stream",
     "text": [
      "[1] \"Taux de precision regression logistique\"\n"
     ]
    },
    {
     "data": {
      "text/html": [
       "0.827"
      ],
      "text/latex": [
       "0.827"
      ],
      "text/markdown": [
       "0.827"
      ],
      "text/plain": [
       "[1] 0.827"
      ]
     },
     "metadata": {},
     "output_type": "display_data"
    }
   ],
   "source": [
    "predict1 <- rep(\"Yes\", 588)\n",
    "predict1[reg.probs < .5] <- \"No\"\n",
    "print(\"Matrice de confusion\")\n",
    "table(predict1, test$Attrition)\n",
    "print(\"Taux de precision regression logistique\")\n",
    "round(mean(predict1 == test$Attrition),3)"
   ]
  },
  {
   "cell_type": "markdown",
   "id": "89c10014",
   "metadata": {},
   "source": [
    "scale(Age)                     -0.37059    0.13192  -2.809 0.004966 ** \n",
    "scale(DistanceFromHome)         0.38484    0.09652   3.987 6.68e-05 ***   \n",
    "scale(EnvironmentSatisfaction) -0.30460    0.09984  -3.051 0.002283 ** \n",
    "GenderMale                      0.43646    0.21480   2.032 0.042156 *    \n",
    "scale(JobLevel)                -0.57417    0.15403  -3.728 0.000193 ***\n",
    "scale(JobSatisfaction)         -0.38356    0.10025  -3.826 0.000130 ***   \n",
    "MaritalStatusSingle             1.44509    0.41502   3.482 0.000498 ***\n",
    "scale(NumCompaniesWorked)       0.32303    0.10158   3.180 0.001472 ** \n",
    "\n",
    "Après avoir performer notre regression logistique, on arrive à un score de test satisfaisante de 83% de bonne prediction.\n",
    "L'analyse des coefficients pour les variables statisquement valable ressort un effet inverse entre l'attrition et les variables Age, EnvironmentSatisfaction, JobLevel, JobSatisfaction. Cela voudrait dire que plus l'employé est agé, a un niveau hierarchique elévé, travaille dans un environnement satisfaisant et est satisfait de son travail mon il est sujet à l'attrition. Par contre, on observe plus d'attrition chez les employé de sexe masculin, chez les personnes célibataires et souvent chez les personnes qui ont dans le passé travailler dans plusieurs compagnie.\n",
    "\n",
    "Quoique les pratiques liées à cibler les employés selon leur statut socio-demographique sont souvent discriminatoires et dans la plus part des cas interdit par les lois. Les entreprises peuvent miser sur la  satisfaction des employés dans leur rôle en valorisant leur ouvrage, la création d'une culture d'entreprise visant rendre l'environnement de travail plus satisfaisant, mais aussi à offrir des formations et la possibilité de travailler plus souvent à distance pour les employés qui habitent loin. Elle peut également mettre en place des politiques de devéloppement professionnel ciblant à donne rplus de responsabilité au jeune professionnel et de par ce fait les garder plus longtemps."
   ]
  },
  {
   "cell_type": "code",
   "execution_count": 76,
   "id": "b8be0780",
   "metadata": {},
   "outputs": [
    {
     "data": {
      "text/plain": [
       "Call:\n",
       "lda(Attrition ~ scale(Age) + scale(DistanceFromHome) + scale(Education) + \n",
       "    scale(EmployeeNumber) + scale(EnvironmentSatisfaction) + \n",
       "    Gender + scale(HourlyRate) + scale(JobLevel) + scale(JobSatisfaction) + \n",
       "    +MaritalStatus + scale(NumCompaniesWorked) + scale(StockOptionLevel) + \n",
       "    scale(TrainingTimesLastYear) + scale(WorkLifeBalance), data = train)\n",
       "\n",
       "Prior probabilities of groups:\n",
       "       No       Yes \n",
       "0.8412698 0.1587302 \n",
       "\n",
       "Group means:\n",
       "     scale(Age) scale(DistanceFromHome) scale(Education) scale(EmployeeNumber)\n",
       "No   0.07466595              -0.0519232       0.02246221           0.003265055\n",
       "Yes -0.39572954               0.2751930      -0.11904973          -0.017304794\n",
       "    scale(EnvironmentSatisfaction) GenderMale scale(HourlyRate) scale(JobLevel)\n",
       "No                      0.04345845  0.5835580        0.01641739       0.0838744\n",
       "Yes                    -0.23032980  0.6714286       -0.08701219      -0.4445343\n",
       "    scale(JobSatisfaction) MaritalStatusMarried MaritalStatusSingle\n",
       "No              0.05595342            0.4716981           0.2830189\n",
       "Yes            -0.29655311            0.3500000           0.5357143\n",
       "    scale(NumCompaniesWorked) scale(StockOptionLevel)\n",
       "No                -0.02305489              0.05739952\n",
       "Yes                0.12219092             -0.30421744\n",
       "    scale(TrainingTimesLastYear) scale(WorkLifeBalance)\n",
       "No                    0.02817869             0.01730112\n",
       "Yes                  -0.14934704            -0.09169592\n",
       "\n",
       "Coefficients of linear discriminants:\n",
       "                                       LD1\n",
       "scale(Age)                     -0.32115576\n",
       "scale(DistanceFromHome)         0.34447118\n",
       "scale(Education)               -0.06127827\n",
       "scale(EmployeeNumber)          -0.03864029\n",
       "scale(EnvironmentSatisfaction) -0.28412944\n",
       "GenderMale                      0.40614095\n",
       "scale(HourlyRate)              -0.13953602\n",
       "scale(JobLevel)                -0.34197124\n",
       "scale(JobSatisfaction)         -0.37297707\n",
       "MaritalStatusMarried            0.30064869\n",
       "MaritalStatusSingle             1.29247508\n",
       "scale(NumCompaniesWorked)       0.28299233\n",
       "scale(StockOptionLevel)        -0.03721399\n",
       "scale(TrainingTimesLastYear)   -0.16388991\n",
       "scale(WorkLifeBalance)         -0.13567690"
      ]
     },
     "metadata": {},
     "output_type": "display_data"
    }
   ],
   "source": [
    "# Modèle LDA \n",
    "library(MASS)\n",
    "lda_scaled = lda( Attrition ~ scale(Age)+scale(DistanceFromHome)+\n",
    "    scale(Education)+scale(EmployeeNumber)+\n",
    "    scale(EnvironmentSatisfaction)+Gender+\n",
    "    scale(HourlyRate)+scale(JobLevel)+scale(JobSatisfaction)\n",
    "    +MaritalStatus+scale(NumCompaniesWorked)+scale(StockOptionLevel)+\n",
    "    scale(TrainingTimesLastYear)+scale(WorkLifeBalance),   \n",
    "    data = train\n",
    "  )\n",
    "lda_scaled"
   ]
  },
  {
   "cell_type": "code",
   "execution_count": 77,
   "id": "51e0de1a",
   "metadata": {},
   "outputs": [
    {
     "data": {
      "image/png": "[encoded data removed]",
      "text/plain": [
       "plot without title"
      ]
     },
     "metadata": {
      "image/png": {
       "height": 420,
       "width": 420
      }
     },
     "output_type": "display_data"
    }
   ],
   "source": [
    "plot(lda_scaled)"
   ]
  },
  {
   "cell_type": "code",
   "execution_count": 87,
   "id": "f463bcd8",
   "metadata": {},
   "outputs": [
    {
     "name": "stdout",
     "output_type": "stream",
     "text": [
      "[1] \"Matrice de confusion\"\n"
     ]
    },
    {
     "data": {
      "text/plain": [
       "     \n",
       "       No Yes\n",
       "  No  482  90\n",
       "  Yes   9   7"
      ]
     },
     "metadata": {},
     "output_type": "display_data"
    },
    {
     "name": "stdout",
     "output_type": "stream",
     "text": [
      "[1] \"Taux de precision\"\n"
     ]
    },
    {
     "data": {
      "text/html": [
       "0.832"
      ],
      "text/latex": [
       "0.832"
      ],
      "text/markdown": [
       "0.832"
      ],
      "text/plain": [
       "[1] 0.832"
      ]
     },
     "metadata": {},
     "output_type": "display_data"
    }
   ],
   "source": [
    "lda_pred = predict(lda_scaled, test)\n",
    "print(\"Matrice de confusion lda\")\n",
    "table(lda_pred$class, test$Attrition)\n",
    "print(\"Taux de precision lda\")\n",
    "round(mean(lda_pred$class == test$Attrition),3)"
   ]
  },
  {
   "cell_type": "code",
   "execution_count": 99,
   "id": "9df40e61",
   "metadata": {},
   "outputs": [
    {
     "data": {
      "text/plain": [
       "Call:\n",
       "qda(Attrition ~ scale(Age) + scale(DistanceFromHome) + scale(Education) + \n",
       "    scale(EmployeeNumber) + scale(EnvironmentSatisfaction) + \n",
       "    Gender + scale(HourlyRate) + scale(JobLevel) + scale(JobSatisfaction) + \n",
       "    MaritalStatus + scale(NumCompaniesWorked) + scale(StockOptionLevel) + \n",
       "    scale(TrainingTimesLastYear) + scale(WorkLifeBalance), data = train)\n",
       "\n",
       "Prior probabilities of groups:\n",
       "       No       Yes \n",
       "0.8412698 0.1587302 \n",
       "\n",
       "Group means:\n",
       "     scale(Age) scale(DistanceFromHome) scale(Education) scale(EmployeeNumber)\n",
       "No   0.07466595              -0.0519232       0.02246221           0.003265055\n",
       "Yes -0.39572954               0.2751930      -0.11904973          -0.017304794\n",
       "    scale(EnvironmentSatisfaction) GenderMale scale(HourlyRate) scale(JobLevel)\n",
       "No                      0.04345845  0.5835580        0.01641739       0.0838744\n",
       "Yes                    -0.23032980  0.6714286       -0.08701219      -0.4445343\n",
       "    scale(JobSatisfaction) MaritalStatusMarried MaritalStatusSingle\n",
       "No              0.05595342            0.4716981           0.2830189\n",
       "Yes            -0.29655311            0.3500000           0.5357143\n",
       "    scale(NumCompaniesWorked) scale(StockOptionLevel)\n",
       "No                -0.02305489              0.05739952\n",
       "Yes                0.12219092             -0.30421744\n",
       "    scale(TrainingTimesLastYear) scale(WorkLifeBalance)\n",
       "No                    0.02817869             0.01730112\n",
       "Yes                  -0.14934704            -0.09169592"
      ]
     },
     "metadata": {},
     "output_type": "display_data"
    }
   ],
   "source": [
    "#Modèle QDA\n",
    "\n",
    "qda_scaled = qda( Attrition ~ scale(Age)+scale(DistanceFromHome)+\n",
    "    scale(Education)+scale(EmployeeNumber)+\n",
    "    scale(EnvironmentSatisfaction)+Gender+\n",
    "    scale(HourlyRate)+scale(JobLevel)+scale(JobSatisfaction)\n",
    "    +MaritalStatus+scale(NumCompaniesWorked)+scale(StockOptionLevel)+\n",
    "    scale(TrainingTimesLastYear)+scale(WorkLifeBalance),   \n",
    "    data = train\n",
    "  )\n",
    "qda_scaled"
   ]
  },
  {
   "cell_type": "code",
   "execution_count": 100,
   "id": "834647c4",
   "metadata": {},
   "outputs": [
    {
     "name": "stdout",
     "output_type": "stream",
     "text": [
      "[1] \"Matrice de confusion\"\n"
     ]
    },
    {
     "data": {
      "text/plain": [
       "     \n",
       "       No Yes\n",
       "  No  460  78\n",
       "  Yes  31  19"
      ]
     },
     "metadata": {},
     "output_type": "display_data"
    },
    {
     "name": "stdout",
     "output_type": "stream",
     "text": [
      "[1] \"Taux de precision qda\"\n"
     ]
    },
    {
     "data": {
      "text/html": [
       "0.815"
      ],
      "text/latex": [
       "0.815"
      ],
      "text/markdown": [
       "0.815"
      ],
      "text/plain": [
       "[1] 0.815"
      ]
     },
     "metadata": {},
     "output_type": "display_data"
    }
   ],
   "source": [
    "qda_pred = predict(qda_scaled, test)\n",
    "print(\"Matrice de confusion qda\")\n",
    "table(qda_pred$class, test$Attrition)\n",
    "print(\"Taux de precision qda\")\n",
    "round(mean(qda_pred$class == test$Attrition),3)"
   ]
  },
  {
   "cell_type": "code",
   "execution_count": 92,
   "id": "2f1dacc1",
   "metadata": {},
   "outputs": [],
   "source": [
    "library(class)"
   ]
  },
  {
   "cell_type": "code",
   "execution_count": 102,
   "id": "0b196eb8",
   "metadata": {},
   "outputs": [],
   "source": [
    "train.X = cbind(scale(train$Age),scale(train$DistanceFromHome),\n",
    "    scale(train$Education),scale(train$EmployeeNumber),\n",
    "    scale(train$EnvironmentSatisfaction),train$Gender,\n",
    "    scale(train$HourlyRate),scale(train$JobLevel),scale(train$JobSatisfaction)\n",
    "    ,train$MaritalStatus,scale(train$NumCompaniesWorked),scale(train$StockOptionLevel),\n",
    "    scale(train$TrainingTimesLastYear),scale(train$WorkLifeBalance))"
   ]
  },
  {
   "cell_type": "code",
   "execution_count": 156,
   "id": "17bc5317",
   "metadata": {},
   "outputs": [],
   "source": [
    "test.X = cbind(scale(test$Age),scale(test$DistanceFromHome),\n",
    "    scale(test$Education),scale(test$EmployeeNumber),\n",
    "    scale(test$EnvironmentSatisfaction),test$Gender,\n",
    "    scale(test$HourlyRate),scale(test$JobLevel),scale(test$JobSatisfaction)\n",
    "    ,test$MaritalStatus,scale(test$NumCompaniesWorked),scale(test$StockOptionLevel),\n",
    "    scale(test$TrainingTimesLastYear),scale(test$WorkLifeBalance))"
   ]
  },
  {
   "cell_type": "code",
   "execution_count": 106,
   "id": "94fa5911",
   "metadata": {},
   "outputs": [
    {
     "name": "stderr",
     "output_type": "stream",
     "text": [
      "Loading required package: ggplot2\n",
      "\n",
      "Loading required package: lattice\n",
      "\n"
     ]
    }
   ],
   "source": [
    "library(caret)"
   ]
  },
  {
   "cell_type": "code",
   "execution_count": 119,
   "id": "a4b1278d",
   "metadata": {},
   "outputs": [
    {
     "data": {
      "text/plain": [
       "k-Nearest Neighbors \n",
       "\n",
       "1470 samples\n",
       "  14 predictor\n",
       "   2 classes: 'No', 'Yes' \n",
       "\n",
       "No pre-processing\n",
       "Resampling: Cross-Validated (10 fold) \n",
       "Summary of sample sizes: 1323, 1323, 1323, 1323, 1323, 1323, ... \n",
       "Resampling results across tuning parameters:\n",
       "\n",
       "  k   Accuracy   Kappa     \n",
       "   1  0.7795918  0.14918016\n",
       "   2  0.7755102  0.13591400\n",
       "   3  0.8251701  0.18078223\n",
       "   4  0.8292517  0.17880078\n",
       "   5  0.8380952  0.15850148\n",
       "   6  0.8387755  0.15692729\n",
       "   7  0.8469388  0.15997643\n",
       "   8  0.8455782  0.14718259\n",
       "   9  0.8455782  0.11699961\n",
       "  10  0.8421769  0.09889350\n",
       "  11  0.8401361  0.07154220\n",
       "  12  0.8421769  0.07519282\n",
       "  13  0.8394558  0.05378600\n",
       "  14  0.8387755  0.05229161\n",
       "  15  0.8387755  0.04305535\n",
       "  16  0.8421769  0.05497921\n",
       "  17  0.8387755  0.03298025\n",
       "  18  0.8401361  0.04040735\n",
       "  19  0.8394558  0.02908560\n",
       "  20  0.8394558  0.02860067\n",
       "\n",
       "Accuracy was used to select the optimal model using the largest value.\n",
       "The final value used for the model was k = 7."
      ]
     },
     "metadata": {},
     "output_type": "display_data"
    },
    {
     "data": {
      "image/png": "[encoded data removed]",
      "text/plain": [
       "plot without title"
      ]
     },
     "metadata": {
      "image/png": {
       "height": 420,
       "width": 420
      }
     },
     "output_type": "display_data"
    }
   ],
   "source": [
    "# Choix du meilleur K\n",
    "set.seed(1)\n",
    "KNN.KFOLD = train(Attrition ~   scale(Age)+scale(DistanceFromHome)+\n",
    "                                scale(Education)+scale(EmployeeNumber)+\n",
    "                                scale(EnvironmentSatisfaction)+Gender+\n",
    "                                scale(HourlyRate)+scale(JobLevel)+scale(JobSatisfaction)+\n",
    "                                MaritalStatus+scale(NumCompaniesWorked)+scale(StockOptionLevel)+\n",
    "                                scale(TrainingTimesLastYear)+scale(WorkLifeBalance),\n",
    "             method     = \"knn\",\n",
    "             tuneGrid   = expand.grid(k = 1:20),\n",
    "             trControl  = trainControl(method  = \"CV\", number=10),\n",
    "             metric     = \"Accuracy\",\n",
    "             data       = hrdata)\n",
    "#Print result\n",
    "KNN.KFOLD\n",
    "qplot(KNN.KFOLD$results$k,KNN.KFOLD$results$Accuracy, xlab = \"k\", ylab = \"Accuracy\", geom = \"line\", \n",
    "     main = \"Meilleur K-Fold\" )"
   ]
  },
  {
   "cell_type": "raw",
   "id": "bbc5582c",
   "metadata": {},
   "source": [
    "Le septième K offre plus precision, nous allons donc faire notre analyse avec ce dernier."
   ]
  },
  {
   "cell_type": "code",
   "execution_count": 185,
   "id": "7e29e117",
   "metadata": {},
   "outputs": [
    {
     "data": {
      "text/plain": [
       "7-nearest neighbor model\n",
       "Training set outcome distribution:\n",
       "\n",
       "  No  Yes \n",
       "1233  237 \n"
      ]
     },
     "metadata": {},
     "output_type": "display_data"
    },
    {
     "data": {
      "text/html": [
       "237"
      ],
      "text/latex": [
       "237"
      ],
      "text/markdown": [
       "237"
      ],
      "text/plain": [
       "[1] 237"
      ]
     },
     "metadata": {},
     "output_type": "display_data"
    }
   ],
   "source": [
    "KNN.KFOLD$finalModel\n",
    "sum(Attrition==\"Yes\")"
   ]
  },
  {
   "cell_type": "code",
   "execution_count": 163,
   "id": "908deee7",
   "metadata": {},
   "outputs": [
    {
     "name": "stdout",
     "output_type": "stream",
     "text": [
      "[1] \"Matrice de confusion KNN\"\n"
     ]
    },
    {
     "data": {
      "text/plain": [
       "        \n",
       "knn.pred  No Yes\n",
       "     No  484  87\n",
       "     Yes   7  10"
      ]
     },
     "metadata": {},
     "output_type": "display_data"
    },
    {
     "name": "stdout",
     "output_type": "stream",
     "text": [
      "[1] \"Taux de precision KNN\"\n"
     ]
    },
    {
     "data": {
      "text/html": [
       "0.84"
      ],
      "text/latex": [
       "0.84"
      ],
      "text/markdown": [
       "0.84"
      ],
      "text/plain": [
       "[1] 0.84"
      ]
     },
     "metadata": {},
     "output_type": "display_data"
    }
   ],
   "source": [
    "set.seed(2)\n",
    "knn.pred <- knn(train.X, test.X, train$Attrition, k = KNN.KFOLD$bestTune)\n",
    "print(\"Matrice de confusion KNN\")\n",
    "table(knn.pred,test$Attrition)\n",
    "print(\"Taux de precision KNN\")\n",
    "round(mean(knn.pred == test$Attrition),3)"
   ]
  },
  {
   "cell_type": "markdown",
   "id": "84667e0c",
   "metadata": {},
   "source": [
    "Nos differents modèle donne une precision de 81 à 84%. "
   ]
  }
 ],
 "metadata": {
  "kernelspec": {
   "display_name": "R",
   "language": "R",
   "name": "ir"
  },
  "language_info": {
   "codemirror_mode": "r",
   "file_extension": ".r",
   "mimetype": "text/x-r-source",
   "name": "R",
   "pygments_lexer": "r",
   "version": "4.1.1"
  }
 },
 "nbformat": 4,
 "nbformat_minor": 5
}
